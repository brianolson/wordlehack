{
 "cells": [
  {
   "cell_type": "code",
   "execution_count": 1,
   "metadata": {},
   "outputs": [],
   "source": [
    "import json"
   ]
  },
  {
   "cell_type": "code",
   "execution_count": 2,
   "metadata": {},
   "outputs": [],
   "source": [
    "la = json.load(open('La.json'))\n",
    "ta = json.load(open('Ta.json'))"
   ]
  },
  {
   "cell_type": "code",
   "execution_count": 3,
   "metadata": {},
   "outputs": [
    {
     "name": "stdout",
     "output_type": "stream",
     "text": [
      "2315 10657\n"
     ]
    }
   ],
   "source": [
    "print(len(la), len(ta))"
   ]
  },
  {
   "cell_type": "code",
   "execution_count": 6,
   "metadata": {},
   "outputs": [
    {
     "name": "stdout",
     "output_type": "stream",
     "text": [
      "0\n"
     ]
    }
   ],
   "source": [
    "print(len(set(la).intersection(set(ta))))"
   ]
  },
  {
   "cell_type": "code",
   "execution_count": 7,
   "metadata": {},
   "outputs": [],
   "source": [
    "aw = set(la).union(set(ta))"
   ]
  },
  {
   "cell_type": "code",
   "execution_count": 8,
   "metadata": {},
   "outputs": [
    {
     "name": "stdout",
     "output_type": "stream",
     "text": [
      "12972\n"
     ]
    }
   ],
   "source": [
    "print(len(aw))"
   ]
  },
  {
   "cell_type": "code",
   "execution_count": 13,
   "metadata": {},
   "outputs": [],
   "source": [
    "cc = {}\n",
    "for w in la:\n",
    "    ws = set(w)\n",
    "    for c in ws:\n",
    "       cc[c] = cc.get(c,0)+1 "
   ]
  },
  {
   "cell_type": "code",
   "execution_count": 14,
   "metadata": {},
   "outputs": [
    {
     "data": {
      "text/plain": [
       "[(1056, 'e'),\n",
       " (909, 'a'),\n",
       " (837, 'r'),\n",
       " (673, 'o'),\n",
       " (667, 't'),\n",
       " (648, 'l'),\n",
       " (647, 'i'),\n",
       " (618, 's'),\n",
       " (550, 'n'),\n",
       " (457, 'u'),\n",
       " (448, 'c'),\n",
       " (417, 'y'),\n",
       " (379, 'h'),\n",
       " (370, 'd'),\n",
       " (346, 'p'),\n",
       " (300, 'g'),\n",
       " (298, 'm'),\n",
       " (267, 'b'),\n",
       " (207, 'f'),\n",
       " (202, 'k'),\n",
       " (194, 'w'),\n",
       " (149, 'v'),\n",
       " (37, 'x'),\n",
       " (35, 'z'),\n",
       " (29, 'q'),\n",
       " (27, 'j')]"
      ]
     },
     "execution_count": 14,
     "metadata": {},
     "output_type": "execute_result"
    }
   ],
   "source": [
    "sorted([(count,c) for c,count in cc.items()], reverse=True)"
   ]
  },
  {
   "cell_type": "code",
   "execution_count": 18,
   "metadata": {},
   "outputs": [
    {
     "name": "stdout",
     "output_type": "stream",
     "text": [
      "[(4117, 'later'), (4117, 'alter'), (4117, 'alert'), (4116, 'irate'), (4093, 'arose'), (4087, 'stare'), (4067, 'raise'), (4067, 'arise'), (4000, 'renal'), (4000, 'learn')]\n"
     ]
    }
   ],
   "source": [
    "scores = []\n",
    "for w in la:\n",
    "    ws = set(w)\n",
    "    score = 0\n",
    "    for c in ws:\n",
    "        score += cc.get(c,0)\n",
    "    scores.append((score,w))\n",
    "scores.sort(reverse=True)\n",
    "print(scores[:10])"
   ]
  },
  {
   "cell_type": "code",
   "execution_count": 20,
   "metadata": {},
   "outputs": [
    {
     "name": "stdout",
     "output_type": "stream",
     "text": [
      "[(2936, 'sonic'), (2936, 'scion'), (2905, 'noisy'), (2756, 'disco'), (2755, 'bison'), (2668, 'sound'), (2628, 'synod'), (2611, 'shiny'), (2578, 'spiny'), (2572, 'using')]\n"
     ]
    }
   ],
   "source": [
    "alterset = set('alter')\n",
    "nextw = []\n",
    "for score,w in scores:\n",
    "    if len(alterset.intersection(w)) == 0:\n",
    "        nextw.append((score,w))\n",
    "print(nextw[:10])"
   ]
  },
  {
   "cell_type": "code",
   "execution_count": 21,
   "metadata": {},
   "outputs": [],
   "source": [
    "import re\n",
    "w5 = re.compile(r'^[a-zA-Z]{5}$')"
   ]
  },
  {
   "cell_type": "code",
   "execution_count": 22,
   "metadata": {},
   "outputs": [
    {
     "name": "stdout",
     "output_type": "stream",
     "text": [
      "6112\n"
     ]
    }
   ],
   "source": [
    "d5 = []\n",
    "with open('/usr/share/dict/words') as fin:\n",
    "    for line in fin:\n",
    "        line = line.strip()\n",
    "        m = w5.match(line)\n",
    "        if m:\n",
    "            d5.append(line)\n",
    "print(len(d5))"
   ]
  },
  {
   "cell_type": "code",
   "execution_count": 24,
   "metadata": {},
   "outputs": [],
   "source": [
    "def matchres(target, guess):\n",
    "    parts = []\n",
    "    has = set()\n",
    "    for tc,gc in zip(target,guess):\n",
    "        if tc == gc:\n",
    "            parts.append(gc)\n",
    "        elif gc in target:\n",
    "            parts.append('[^'+gc+']')\n",
    "            has.add(gc)\n",
    "        else:\n",
    "            parts.append('.')\n",
    "    if has:\n",
    "        return (re.compile(''.join(parts)), re.compile('['+''.join(has)+']'))\n",
    "    else:\n",
    "        return (re.compile(''.join(parts)),)"
   ]
  },
  {
   "cell_type": "code",
   "execution_count": 27,
   "metadata": {},
   "outputs": [
    {
     "name": "stdout",
     "output_type": "stream",
     "text": [
      "later 706099\n",
      "alter 660824\n",
      "alert 662389\n",
      "irate 693455\n",
      "arose 685186\n",
      "stare 791420\n",
      "raise 653257\n",
      "arise 646635\n",
      "renal 680829\n",
      "learn 680054\n",
      "snare 722013\n",
      "saner 727180\n",
      "trace 808276\n",
      "react 794196\n",
      "crate 824540\n",
      "cater 825885\n",
      "steal 763732\n",
      "stale 770908\n",
      "slate 753494\n",
      "least 800127\n",
      "clear 776474\n",
      "teary 680769\n",
      "aisle 709693\n",
      "scare 812805\n",
      "relay 709168\n",
      "layer 701760\n",
      "early 721939\n",
      "atone 625745\n",
      "store 816911\n",
      "heart 831382\n",
      "hater 872338\n",
      "earth 836641\n",
      "adore 744769\n",
      "tread 844369\n",
      "trade 857984\n",
      "alone 579348\n",
      "loser 790822\n",
      "leant 678001\n",
      "opera 774335\n",
      "aider 674052\n",
      "taper 852152\n",
      "alien 645358\n",
      "crane 832146\n",
      "shear 765462\n",
      "share 783611\n",
      "pearl 819924\n",
      "paler 852418\n",
      "tenor 740803\n",
      "yearn 703707\n",
      "great 883369\n",
      "grate 901198\n",
      "tamer 855143\n",
      "spear 854169\n",
      "spare 871217\n",
      "parse 944814\n",
      "inter 821458\n",
      "inert 815132\n",
      "regal 829334\n",
      "large 859593\n",
      "lager 858164\n",
      "glare 855517\n",
      "realm 816054\n",
      "liner 672683\n",
      "snore 750283\n",
      "ratio 650088\n",
      "stern 816080\n",
      "eclat 790766\n",
      "cleat 767847\n",
      "smear 850020\n",
      "blare 910725\n",
      "baler 912278\n",
      "trial 719146\n",
      "trail 698591\n",
      "siren 727655\n",
      "risen 819084\n",
      "rinse 800374\n",
      "resin 840620\n",
      "saute 752997\n",
      "roast 890524\n",
      "caste 931782\n",
      "route 777067\n",
      "outer 790116\n",
      "solar 756581\n",
      "scale 849961\n",
      "stair 833337\n",
      "after 882402\n",
      "taker 859578\n",
      "yeast 806469\n",
      "water 953541\n",
      "stole 753710\n",
      "lathe 822090\n",
      "flare 912526\n",
      "feral 901861\n",
      "afire 729557\n",
      "trice 854788\n",
      "range 879526\n",
      "anger 845923\n",
      "ramen 821771\n",
      "delta 859224\n",
      "dealt 820708\n",
      "rouse 812311\n",
      "relic 777307\n",
      "ocean 732044\n",
      "islet 948202\n",
      "canoe 694531\n",
      "score 845044\n",
      "ideal 806231\n",
      "enact 778558\n",
      "reach 892237\n",
      "haste 1020480\n",
      "safer 916032\n",
      "pleat 818831\n",
      "plate 845562\n",
      "petal 836185\n",
      "leapt 821552\n",
      "crest 953915\n",
      "stead 871762\n",
      "cedar 910597\n",
      "avert 934831\n",
      "swear 904089\n"
     ]
    },
    {
     "ename": "KeyboardInterrupt",
     "evalue": "",
     "output_type": "error",
     "traceback": [
      "\u001b[0;31m---------------------------------------------------------------------------\u001b[0m",
      "\u001b[0;31mKeyboardInterrupt\u001b[0m                         Traceback (most recent call last)",
      "\u001b[0;32m<ipython-input-27-880e74e81ed4>\u001b[0m in \u001b[0;36m<module>\u001b[0;34m\u001b[0m\n\u001b[1;32m      6\u001b[0m             \u001b[0;32mcontinue\u001b[0m\u001b[0;34m\u001b[0m\u001b[0;34m\u001b[0m\u001b[0m\n\u001b[1;32m      7\u001b[0m         \u001b[0mres\u001b[0m \u001b[0;34m=\u001b[0m \u001b[0mmatchres\u001b[0m\u001b[0;34m(\u001b[0m\u001b[0mtarget\u001b[0m\u001b[0;34m,\u001b[0m\u001b[0mguess\u001b[0m\u001b[0;34m)\u001b[0m\u001b[0;34m\u001b[0m\u001b[0;34m\u001b[0m\u001b[0m\n\u001b[0;32m----> 8\u001b[0;31m         \u001b[0;32mfor\u001b[0m \u001b[0mw\u001b[0m \u001b[0;32min\u001b[0m \u001b[0mla\u001b[0m\u001b[0;34m:\u001b[0m\u001b[0;34m\u001b[0m\u001b[0;34m\u001b[0m\u001b[0m\n\u001b[0m\u001b[1;32m      9\u001b[0m             \u001b[0mhit\u001b[0m \u001b[0;34m=\u001b[0m \u001b[0;32mTrue\u001b[0m\u001b[0;34m\u001b[0m\u001b[0;34m\u001b[0m\u001b[0m\n\u001b[1;32m     10\u001b[0m             \u001b[0;32mfor\u001b[0m \u001b[0mrei\u001b[0m \u001b[0;32min\u001b[0m \u001b[0mres\u001b[0m\u001b[0;34m:\u001b[0m\u001b[0;34m\u001b[0m\u001b[0;34m\u001b[0m\u001b[0m\n",
      "\u001b[0;31mKeyboardInterrupt\u001b[0m: "
     ]
    }
   ],
   "source": [
    "posc = []\n",
    "for _,guess in scores:\n",
    "    count = 0\n",
    "    for target in la:\n",
    "        if guess == target:\n",
    "            continue\n",
    "        res = matchres(target,guess)\n",
    "        for w in la:\n",
    "            hit = True\n",
    "            for rei in res:\n",
    "                m = rei.match(w)\n",
    "                if not m:\n",
    "                    hit = False\n",
    "                    break\n",
    "            if hit:\n",
    "                count += 1\n",
    "    print(guess,count)\n",
    "    posc.append((count,guess))\n",
    "posc.sort()\n",
    "print(posc[:10])"
   ]
  },
  {
   "cell_type": "code",
   "execution_count": null,
   "metadata": {},
   "outputs": [],
   "source": []
  }
 ],
 "metadata": {
  "kernelspec": {
   "display_name": "Python 3",
   "language": "python",
   "name": "python3"
  },
  "language_info": {
   "codemirror_mode": {
    "name": "ipython",
    "version": 3
   },
   "file_extension": ".py",
   "mimetype": "text/x-python",
   "name": "python",
   "nbconvert_exporter": "python",
   "pygments_lexer": "ipython3",
   "version": "3.8.10"
  }
 },
 "nbformat": 4,
 "nbformat_minor": 4
}
